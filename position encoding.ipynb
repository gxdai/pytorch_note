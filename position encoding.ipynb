{
 "cells": [
  {
   "cell_type": "code",
   "execution_count": 5,
   "id": "4c852264",
   "metadata": {},
   "outputs": [],
   "source": [
    "import torch\n",
    "import torch.nn as nn\n",
    "import math"
   ]
  },
  {
   "cell_type": "code",
   "execution_count": 32,
   "id": "ecd75974",
   "metadata": {},
   "outputs": [],
   "source": [
    "class PositionEncoding(nn.Module):\n",
    "    \n",
    "    def __init__(self, d_model, dropout=0.1, max_len=5000):\n",
    "        super().__init__()\n",
    "        self.dropout = nn.Dropout(p=dropout)\n",
    "        \n",
    "        # Compute PE in log space\n",
    "        pe = torch.zeros(max_len, d_model)\n",
    "        position = torch.arange(0, max_len).unsqueeze(1) # shape would be max_len x d_model\n",
    "        div_term = torch.exp(\n",
    "            torch.arange(0, d_model, 2) *\n",
    "            (-math.log(10000.0) / d_model)\n",
    "        ).unsqueeze(0)\n",
    "        pe[:, ::2] = torch.sin(position * div_term)\n",
    "        pe[:, 1::2] = torch.cos(position * div_term)\n",
    "        \n",
    "        pe = pe.unsqueeze(0)\n",
    "        self.register_buffer(\"pe\", pe)\n",
    "    \n",
    "    def forward(self, x):\n",
    "        # x.size(1):  for the length of the sentences.\n",
    "        x = x + pe[:, :x.size(1)]"
   ]
  },
  {
   "cell_type": "code",
   "execution_count": 33,
   "id": "566dd06f",
   "metadata": {},
   "outputs": [],
   "source": [
    "pe_instance = PositionEncoding(512, 0.1)"
   ]
  },
  {
   "cell_type": "code",
   "execution_count": 2,
   "id": "d77d42fa",
   "metadata": {},
   "outputs": [],
   "source": [
    "import numpy as np"
   ]
  },
  {
   "cell_type": "code",
   "execution_count": 3,
   "id": "7330181f",
   "metadata": {},
   "outputs": [
    {
     "data": {
      "text/plain": [
       "0.9821718891880378"
      ]
     },
     "execution_count": 3,
     "metadata": {},
     "output_type": "execute_result"
    }
   ],
   "source": [
    "np.exp(-np.log(10000) / 512)"
   ]
  },
  {
   "cell_type": "code",
   "execution_count": 4,
   "id": "9b9dcb5f",
   "metadata": {},
   "outputs": [
    {
     "data": {
      "text/plain": [
       "-0.017988946039015984"
      ]
     },
     "execution_count": 4,
     "metadata": {},
     "output_type": "execute_result"
    }
   ],
   "source": [
    "-np.log(10000) / 512"
   ]
  },
  {
   "cell_type": "code",
   "execution_count": 8,
   "id": "15f32611",
   "metadata": {},
   "outputs": [
    {
     "data": {
      "text/plain": [
       "tensor([1.0000e+00, 3.1623e-01, 1.0000e-01, 3.1623e-02, 1.0000e-02, 3.1623e-03,\n",
       "        1.0000e-03, 3.1623e-04])"
      ]
     },
     "execution_count": 8,
     "metadata": {},
     "output_type": "execute_result"
    }
   ],
   "source": [
    "d_model = 16\n",
    "torch.exp(\n",
    "            torch.arange(0, d_model, 2) *\n",
    "            (-math.log(10000.0) / d_model)\n",
    "        )"
   ]
  },
  {
   "cell_type": "code",
   "execution_count": 21,
   "id": "a152008f",
   "metadata": {},
   "outputs": [],
   "source": [
    "d_model = 512\n",
    "# log space style.....\n",
    "ps1 = torch.exp(torch.arange(0, d_model, 2) * (-math.log(10000) / d_model))\n",
    "\n",
    "# this is naive coding style\n",
    "ps2 = 1/ (10000 ** (torch.arange(0, d_model, 2) / d_model))"
   ]
  },
  {
   "cell_type": "code",
   "execution_count": 22,
   "id": "97af1925",
   "metadata": {},
   "outputs": [
    {
     "data": {
      "text/plain": [
       "(256, 256)"
      ]
     },
     "execution_count": 22,
     "metadata": {},
     "output_type": "execute_result"
    }
   ],
   "source": [
    "len(ps1), len(ps2)"
   ]
  },
  {
   "cell_type": "code",
   "execution_count": 23,
   "id": "28b25b7e",
   "metadata": {},
   "outputs": [
    {
     "data": {
      "text/plain": [
       "(tensor([1.0000, 0.9647, 0.9306, 0.8977, 0.8660]),\n",
       " tensor([1.0000, 0.9647, 0.9306, 0.8977, 0.8660]))"
      ]
     },
     "execution_count": 23,
     "metadata": {},
     "output_type": "execute_result"
    }
   ],
   "source": [
    "ps1[:5], ps2[:5]"
   ]
  },
  {
   "cell_type": "code",
   "execution_count": 24,
   "id": "964587ee",
   "metadata": {},
   "outputs": [],
   "source": [
    "import matplotlib.pyplot as plt"
   ]
  },
  {
   "cell_type": "code",
   "execution_count": 27,
   "id": "7d21d4ed",
   "metadata": {},
   "outputs": [
    {
     "data": {
      "text/plain": [
       "[<matplotlib.lines.Line2D at 0x7fe350c45640>]"
      ]
     },
     "execution_count": 27,
     "metadata": {},
     "output_type": "execute_result"
    },
    {
     "data": {
      "image/png": "[encoded data removed]",
      "text/plain": [
       "<Figure size 432x288 with 1 Axes>"
      ]
     },
     "metadata": {
      "needs_background": "light"
     },
     "output_type": "display_data"
    }
   ],
   "source": [
    "# clearly, for this dimention encoding, it singlely decreasing.\n",
    "\n",
    "plt.plot(range(d_model//2), ps1.numpy())"
   ]
  },
  {
   "cell_type": "code",
   "execution_count": 45,
   "id": "6ecd3754",
   "metadata": {},
   "outputs": [
    {
     "data": {
      "image/png": "[encoded data removed]",
      "text/plain": [
       "<Figure size 432x288 with 1 Axes>"
      ]
     },
     "metadata": {
      "needs_background": "light"
     },
     "output_type": "display_data"
    },
    {
     "data": {
      "image/png": "[encoded data removed]",
      "text/plain": [
       "<Figure size 432x288 with 1 Axes>"
      ]
     },
     "metadata": {
      "needs_background": "light"
     },
     "output_type": "display_data"
    }
   ],
   "source": [
    "plot_len = 4999\n",
    "# add position encoding\n",
    "for dim in [1, 511]:\n",
    "    plt.figure()\n",
    "    plt.plot(range(plot_len), pe_instance.pe[0, :plot_len, dim].numpy())"
   ]
  },
  {
   "cell_type": "markdown",
   "id": "c9cd538b",
   "metadata": {},
   "source": [
    "The dimention could control the frequence when position changes\n",
    "  1. the left part has higher frequence when position changes\n",
    "  2. The right part has lower frequence when position changes."
   ]
  },
  {
   "cell_type": "code",
   "execution_count": 47,
   "id": "bc7e0f96",
   "metadata": {},
   "outputs": [
    {
     "data": {
      "text/plain": [
       "tensor([[0., 1., 1., 1., 1.],\n",
       "        [0., 0., 1., 1., 1.],\n",
       "        [0., 0., 0., 1., 1.],\n",
       "        [0., 0., 0., 0., 1.],\n",
       "        [0., 0., 0., 0., 0.]])"
      ]
     },
     "execution_count": 47,
     "metadata": {},
     "output_type": "execute_result"
    }
   ],
   "source": [
    "torch.triu(torch.ones(5, 5), diagonal=1)"
   ]
  },
  {
   "cell_type": "code",
   "execution_count": 48,
   "id": "185d84c9",
   "metadata": {},
   "outputs": [
    {
     "data": {
      "text/plain": [
       "tensor([[1., 0., 0., 0., 0.],\n",
       "        [1., 1., 0., 0., 0.],\n",
       "        [1., 1., 1., 0., 0.],\n",
       "        [1., 1., 1., 1., 0.],\n",
       "        [1., 1., 1., 1., 1.]])"
      ]
     },
     "execution_count": 48,
     "metadata": {},
     "output_type": "execute_result"
    }
   ],
   "source": [
    "1 - torch.triu(torch.ones(5, 5), diagonal=1) # masked out furture labels."
   ]
  },
  {
   "cell_type": "code",
   "execution_count": null,
   "id": "9b905def",
   "metadata": {},
   "outputs": [],
   "source": []
  }
 ],
 "metadata": {
  "kernelspec": {
   "display_name": "Python 3",
   "language": "python",
   "name": "python3"
  },
  "language_info": {
   "codemirror_mode": {
    "name": "ipython",
    "version": 3
   },
   "file_extension": ".py",
   "mimetype": "text/x-python",
   "name": "python",
   "nbconvert_exporter": "python",
   "pygments_lexer": "ipython3",
   "version": "3.8.3"
  }
 },
 "nbformat": 4,
 "nbformat_minor": 5
}
