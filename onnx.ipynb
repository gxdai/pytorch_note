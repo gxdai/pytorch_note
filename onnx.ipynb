{
 "cells": [
  {
   "cell_type": "code",
   "execution_count": 1,
   "id": "670d4032",
   "metadata": {},
   "outputs": [],
   "source": [
    "import torch\n",
    "import torchvision"
   ]
  },
  {
   "cell_type": "code",
   "execution_count": 2,
   "id": "ab38a3b2",
   "metadata": {},
   "outputs": [],
   "source": [
    "dummy_input = torch.randn(10, 3, 224, 224)\n",
    "alexnet = torchvision.models.alexnet(pretrained=True)"
   ]
  },
  {
   "cell_type": "code",
   "execution_count": 3,
   "id": "01986b1e",
   "metadata": {},
   "outputs": [],
   "source": [
    "input_names = [\"input_1\"] + [\"learn_{}\".format(i) for i in range(16)]\n",
    "output_names = [\"output_1\"]"
   ]
  },
  {
   "cell_type": "code",
   "execution_count": 4,
   "id": "1f9149ae",
   "metadata": {},
   "outputs": [
    {
     "name": "stdout",
     "output_type": "stream",
     "text": [
      "graph(%input_1 : Float(10, 3, 224, 224),\n",
      "      %learn_0 : Float(64, 3, 11, 11),\n",
      "      %learn_1 : Float(64),\n",
      "      %learn_2 : Float(192, 64, 5, 5),\n",
      "      %learn_3 : Float(192),\n",
      "      %learn_4 : Float(384, 192, 3, 3),\n",
      "      %learn_5 : Float(384),\n",
      "      %learn_6 : Float(256, 384, 3, 3),\n",
      "      %learn_7 : Float(256),\n",
      "      %learn_8 : Float(256, 256, 3, 3),\n",
      "      %learn_9 : Float(256),\n",
      "      %learn_10 : Float(4096, 9216),\n",
      "      %learn_11 : Float(4096),\n",
      "      %learn_12 : Float(4096, 4096),\n",
      "      %learn_13 : Float(4096),\n",
      "      %learn_14 : Float(1000, 4096),\n",
      "      %learn_15 : Float(1000)):\n",
      "  %17 : Float(10, 64, 55, 55) = onnx::Conv[dilations=[1, 1], group=1, kernel_shape=[11, 11], pads=[2, 2, 2, 2], strides=[4, 4]](%input_1, %learn_0, %learn_1) # /Users/guoxiandai/anaconda3/envs/py38/lib/python3.8/site-packages/torch/nn/modules/conv.py:341:0\n",
      "  %18 : Float(10, 64, 55, 55) = onnx::Relu(%17) # /Users/guoxiandai/anaconda3/envs/py38/lib/python3.8/site-packages/torch/nn/functional.py:912:0\n",
      "  %19 : Float(10, 64, 27, 27) = onnx::MaxPool[kernel_shape=[3, 3], pads=[0, 0, 0, 0], strides=[2, 2]](%18) # /Users/guoxiandai/anaconda3/envs/py38/lib/python3.8/site-packages/torch/nn/functional.py:487:0\n",
      "  %20 : Float(10, 192, 27, 27) = onnx::Conv[dilations=[1, 1], group=1, kernel_shape=[5, 5], pads=[2, 2, 2, 2], strides=[1, 1]](%19, %learn_2, %learn_3) # /Users/guoxiandai/anaconda3/envs/py38/lib/python3.8/site-packages/torch/nn/modules/conv.py:341:0\n",
      "  %21 : Float(10, 192, 27, 27) = onnx::Relu(%20) # /Users/guoxiandai/anaconda3/envs/py38/lib/python3.8/site-packages/torch/nn/functional.py:912:0\n",
      "  %22 : Float(10, 192, 13, 13) = onnx::MaxPool[kernel_shape=[3, 3], pads=[0, 0, 0, 0], strides=[2, 2]](%21) # /Users/guoxiandai/anaconda3/envs/py38/lib/python3.8/site-packages/torch/nn/functional.py:487:0\n",
      "  %23 : Float(10, 384, 13, 13) = onnx::Conv[dilations=[1, 1], group=1, kernel_shape=[3, 3], pads=[1, 1, 1, 1], strides=[1, 1]](%22, %learn_4, %learn_5) # /Users/guoxiandai/anaconda3/envs/py38/lib/python3.8/site-packages/torch/nn/modules/conv.py:341:0\n",
      "  %24 : Float(10, 384, 13, 13) = onnx::Relu(%23) # /Users/guoxiandai/anaconda3/envs/py38/lib/python3.8/site-packages/torch/nn/functional.py:912:0\n",
      "  %25 : Float(10, 256, 13, 13) = onnx::Conv[dilations=[1, 1], group=1, kernel_shape=[3, 3], pads=[1, 1, 1, 1], strides=[1, 1]](%24, %learn_6, %learn_7) # /Users/guoxiandai/anaconda3/envs/py38/lib/python3.8/site-packages/torch/nn/modules/conv.py:341:0\n",
      "  %26 : Float(10, 256, 13, 13) = onnx::Relu(%25) # /Users/guoxiandai/anaconda3/envs/py38/lib/python3.8/site-packages/torch/nn/functional.py:912:0\n",
      "  %27 : Float(10, 256, 13, 13) = onnx::Conv[dilations=[1, 1], group=1, kernel_shape=[3, 3], pads=[1, 1, 1, 1], strides=[1, 1]](%26, %learn_8, %learn_9) # /Users/guoxiandai/anaconda3/envs/py38/lib/python3.8/site-packages/torch/nn/modules/conv.py:341:0\n",
      "  %28 : Float(10, 256, 13, 13) = onnx::Relu(%27) # /Users/guoxiandai/anaconda3/envs/py38/lib/python3.8/site-packages/torch/nn/functional.py:912:0\n",
      "  %29 : Float(10, 256, 6, 6) = onnx::MaxPool[kernel_shape=[3, 3], pads=[0, 0, 0, 0], strides=[2, 2]](%28) # /Users/guoxiandai/anaconda3/envs/py38/lib/python3.8/site-packages/torch/nn/functional.py:487:0\n",
      "  %30 : Float(10, 256, 6, 6) = onnx::AveragePool[kernel_shape=[1, 1], strides=[1, 1]](%29) # /Users/guoxiandai/anaconda3/envs/py38/lib/python3.8/site-packages/torch/nn/functional.py:768:0\n",
      "  %31 : Float(10, 9216) = onnx::Flatten[axis=1](%30) # /Users/guoxiandai/anaconda3/envs/py38/lib/python3.8/site-packages/torch/nn/functional.py:807:0\n",
      "  %32 : Float(10, 4096) = onnx::Gemm[alpha=1, beta=1, transB=1](%31, %learn_10, %learn_11) # /Users/guoxiandai/anaconda3/envs/py38/lib/python3.8/site-packages/torch/nn/functional.py:1370:0\n",
      "  %33 : Float(10, 4096) = onnx::Relu(%32) # /Users/guoxiandai/anaconda3/envs/py38/lib/python3.8/site-packages/torch/nn/functional.py:807:0\n",
      "  %34 : Float(10, 4096) = onnx::Gemm[alpha=1, beta=1, transB=1](%33, %learn_12, %learn_13) # /Users/guoxiandai/anaconda3/envs/py38/lib/python3.8/site-packages/torch/nn/functional.py:1370:0\n",
      "  %35 : Float(10, 4096) = onnx::Relu(%34) # /Users/guoxiandai/anaconda3/envs/py38/lib/python3.8/site-packages/torch/nn/functional.py:912:0\n",
      "  %output_1 : Float(10, 1000) = onnx::Gemm[alpha=1, beta=1, transB=1](%35, %learn_14, %learn_15) # /Users/guoxiandai/anaconda3/envs/py38/lib/python3.8/site-packages/torch/nn/functional.py:1370:0\n",
      "  return (%output_1)\n",
      "\n"
     ]
    }
   ],
   "source": [
    "torch.onnx.export(\n",
    "    alexnet,\n",
    "    dummy_input,\n",
    "    \"alex.onnx\",\n",
    "    verbose=True,\n",
    "    input_names=input_names,\n",
    "    output_names=output_names\n",
    ")"
   ]
  },
  {
   "cell_type": "code",
   "execution_count": 5,
   "id": "5079aca3",
   "metadata": {},
   "outputs": [],
   "source": [
    "import onnx"
   ]
  },
  {
   "cell_type": "code",
   "execution_count": 6,
   "id": "02ac2e38",
   "metadata": {},
   "outputs": [],
   "source": [
    "model = onnx.load(\"alex.onnx\")"
   ]
  },
  {
   "cell_type": "code",
   "execution_count": 7,
   "id": "c404f516",
   "metadata": {},
   "outputs": [],
   "source": [
    "onnx.checker.check_model(model)"
   ]
  },
  {
   "cell_type": "code",
   "execution_count": 8,
   "id": "506500a4",
   "metadata": {},
   "outputs": [
    {
     "data": {
      "text/plain": [
       "'graph torch-jit-export (\\n  %input_1[FLOAT, 10x3x224x224]\\n) initializers (\\n  %learn_0[FLOAT, 64x3x11x11]\\n  %learn_1[FLOAT, 64]\\n  %learn_10[FLOAT, 4096x9216]\\n  %learn_11[FLOAT, 4096]\\n  %learn_12[FLOAT, 4096x4096]\\n  %learn_13[FLOAT, 4096]\\n  %learn_14[FLOAT, 1000x4096]\\n  %learn_15[FLOAT, 1000]\\n  %learn_2[FLOAT, 192x64x5x5]\\n  %learn_3[FLOAT, 192]\\n  %learn_4[FLOAT, 384x192x3x3]\\n  %learn_5[FLOAT, 384]\\n  %learn_6[FLOAT, 256x384x3x3]\\n  %learn_7[FLOAT, 256]\\n  %learn_8[FLOAT, 256x256x3x3]\\n  %learn_9[FLOAT, 256]\\n) {\\n  %17 = Conv[dilations = [1, 1], group = 1, kernel_shape = [11, 11], pads = [2, 2, 2, 2], strides = [4, 4]](%input_1, %learn_0, %learn_1)\\n  %18 = Relu(%17)\\n  %19 = MaxPool[kernel_shape = [3, 3], pads = [0, 0, 0, 0], strides = [2, 2]](%18)\\n  %20 = Conv[dilations = [1, 1], group = 1, kernel_shape = [5, 5], pads = [2, 2, 2, 2], strides = [1, 1]](%19, %learn_2, %learn_3)\\n  %21 = Relu(%20)\\n  %22 = MaxPool[kernel_shape = [3, 3], pads = [0, 0, 0, 0], strides = [2, 2]](%21)\\n  %23 = Conv[dilations = [1, 1], group = 1, kernel_shape = [3, 3], pads = [1, 1, 1, 1], strides = [1, 1]](%22, %learn_4, %learn_5)\\n  %24 = Relu(%23)\\n  %25 = Conv[dilations = [1, 1], group = 1, kernel_shape = [3, 3], pads = [1, 1, 1, 1], strides = [1, 1]](%24, %learn_6, %learn_7)\\n  %26 = Relu(%25)\\n  %27 = Conv[dilations = [1, 1], group = 1, kernel_shape = [3, 3], pads = [1, 1, 1, 1], strides = [1, 1]](%26, %learn_8, %learn_9)\\n  %28 = Relu(%27)\\n  %29 = MaxPool[kernel_shape = [3, 3], pads = [0, 0, 0, 0], strides = [2, 2]](%28)\\n  %30 = AveragePool[kernel_shape = [1, 1], strides = [1, 1]](%29)\\n  %31 = Flatten[axis = 1](%30)\\n  %32 = Gemm[alpha = 1, beta = 1, transB = 1](%31, %learn_10, %learn_11)\\n  %33 = Relu(%32)\\n  %34 = Gemm[alpha = 1, beta = 1, transB = 1](%33, %learn_12, %learn_13)\\n  %35 = Relu(%34)\\n  %output_1 = Gemm[alpha = 1, beta = 1, transB = 1](%35, %learn_14, %learn_15)\\n  return %output_1\\n}'"
      ]
     },
     "execution_count": 8,
     "metadata": {},
     "output_type": "execute_result"
    }
   ],
   "source": [
    "onnx.helper.printable_graph(model.graph)"
   ]
  },
  {
   "cell_type": "code",
   "execution_count": null,
   "id": "cd8c8fa9",
   "metadata": {},
   "outputs": [],
   "source": []
  }
 ],
 "metadata": {
  "kernelspec": {
   "display_name": "Python 3",
   "language": "python",
   "name": "python3"
  },
  "language_info": {
   "codemirror_mode": {
    "name": "ipython",
    "version": 3
   },
   "file_extension": ".py",
   "mimetype": "text/x-python",
   "name": "python",
   "nbconvert_exporter": "python",
   "pygments_lexer": "ipython3",
   "version": "3.8.5"
  }
 },
 "nbformat": 4,
 "nbformat_minor": 5
}
